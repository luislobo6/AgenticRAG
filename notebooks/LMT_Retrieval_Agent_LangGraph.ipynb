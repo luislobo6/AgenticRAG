{
  "nbformat": 4,
  "nbformat_minor": 0,
  "metadata": {
    "colab": {
      "provenance": []
    },
    "kernelspec": {
      "name": "python3",
      "display_name": "Python 3"
    },
    "language_info": {
      "name": "python"
    }
  },
  "cells": [
    {
      "cell_type": "markdown",
      "source": [
        "# Agentic RAG for EOG Energy\n",
        "## By Luis Macías [](https://langchain-ai.github.io/langgraph/tutorials/rag/langgraph_agentic_rag/)"
      ],
      "metadata": {
        "id": "gjLwzXVqQYVP"
      }
    },
    {
      "cell_type": "markdown",
      "source": [
        "Retrieval agents are useful when you want an LLM to make a decision about whether to retrieve context from a vectorstore or respond to the user directly."
      ],
      "metadata": {
        "id": "i2r_5Ga2Qg8U"
      }
    },
    {
      "cell_type": "markdown",
      "source": [
        "### Setup the environment"
      ],
      "metadata": {
        "id": "TZmXC9_4Ro-1"
      }
    },
    {
      "cell_type": "code",
      "execution_count": 27,
      "metadata": {
        "id": "92odh0lAQXIp"
      },
      "outputs": [],
      "source": [
        "# Let’s download the required packages and set our API keys:\n",
        "%%capture --no-stderr\n",
        "%pip install -U --quiet langgraph \"langchain[openai]\" langchain-community langchain-text-splitters pymupdf"
      ]
    },
    {
      "cell_type": "code",
      "source": [
        "# Setup the API KEY\n",
        "import getpass\n",
        "import os\n",
        "\n",
        "\n",
        "def _set_env(key: str):\n",
        "    if key not in os.environ:\n",
        "        os.environ[key] = getpass.getpass(f\"{key}:\")\n",
        "\n",
        "\n",
        "_set_env(\"OPENAI_API_KEY\")"
      ],
      "metadata": {
        "colab": {
          "base_uri": "https://localhost:8080/"
        },
        "id": "Ru3Ly_T8RNNK",
        "outputId": "c7cc4bf7-3859-42a1-f089-0eb1b3604f3b"
      },
      "execution_count": 3,
      "outputs": [
        {
          "name": "stdout",
          "output_type": "stream",
          "text": [
            "OPENAI_API_KEY:··········\n"
          ]
        }
      ]
    },
    {
      "cell_type": "markdown",
      "source": [
        "## 1. Preprocess Document"
      ],
      "metadata": {
        "id": "LdU_k5zSUXbT"
      }
    },
    {
      "cell_type": "markdown",
      "source": [
        "### 1. Fetch documents to use in our RAG system."
      ],
      "metadata": {
        "id": "dQtymaTFRlYm"
      }
    },
    {
      "cell_type": "markdown",
      "source": [
        "#### a. URL"
      ],
      "metadata": {
        "id": "tMX4kFcPErPa"
      }
    },
    {
      "cell_type": "code",
      "source": [
        "# import the loader for URLS\n",
        "from langchain_community.document_loaders import WebBaseLoader\n",
        "\n",
        "# set the URLs\n",
        "urls = [\n",
        "    \"https://lilianweng.github.io/posts/2024-11-28-reward-hacking/\",\n",
        "    \"https://lilianweng.github.io/posts/2024-07-07-hallucination/\",\n",
        "    \"https://lilianweng.github.io/posts/2024-04-12-diffusion-video/\",\n",
        "]\n",
        "\n",
        "# load the documents  (list comprehension)\n",
        "docs = [WebBaseLoader(url).load() for url in urls]"
      ],
      "metadata": {
        "id": "PdWeAM_lRewd"
      },
      "execution_count": 8,
      "outputs": []
    },
    {
      "cell_type": "code",
      "source": [
        "# example of part of the loaded document\n",
        "docs[0][0].page_content.strip()[:1000]"
      ],
      "metadata": {
        "colab": {
          "base_uri": "https://localhost:8080/",
          "height": 171
        },
        "id": "kb_Lr3-ZSCW9",
        "outputId": "c0f360cd-3a92-49c3-b74d-7b3def7a25b7"
      },
      "execution_count": 7,
      "outputs": [
        {
          "output_type": "execute_result",
          "data": {
            "text/plain": [
              "\"Reward Hacking in Reinforcement Learning | Lil'Log\\n\\n\\n\\n\\n\\n\\n\\n\\n\\n\\n\\n\\n\\n\\n\\n\\n\\n\\n\\n\\n\\n\\n\\n\\n\\n\\n\\n\\n\\n\\n\\n\\n\\n\\n\\n\\n\\n\\n\\n\\nLil'Log\\n\\n\\n\\n\\n\\n\\n\\n\\n\\n\\n\\n\\n\\n\\n\\n\\n\\n|\\n\\n\\n\\n\\n\\n\\nPosts\\n\\n\\n\\n\\nArchive\\n\\n\\n\\n\\nSearch\\n\\n\\n\\n\\nTags\\n\\n\\n\\n\\nFAQ\\n\\n\\n\\n\\n\\n\\n\\n\\n\\n      Reward Hacking in Reinforcement Learning\\n    \\nDate: November 28, 2024  |  Estimated Reading Time: 37 min  |  Author: Lilian Weng\\n\\n\\n \\n\\n\\nTable of Contents\\n\\n\\n\\nBackground\\n\\nReward Function in RL\\n\\nSpurious Correlation\\n\\n\\nLet’s Define Reward Hacking\\n\\nList of Examples\\n\\nReward hacking examples in RL tasks\\n\\nReward hacking examples in LLM tasks\\n\\nReward hacking examples in real life\\n\\n\\nWhy does Reward Hacking Exist?\\n\\n\\nHacking RL Environment\\n\\nHacking RLHF of LLMs\\n\\nHacking the Training Process\\n\\nHacking the Evaluator\\n\\nIn-Context Reward Hacking\\n\\n\\nGeneralization of Hacking Skills\\n\\nPeek into Mitigations\\n\\nRL Algorithm Improvement\\n\\nDetecting Reward Hacking\\n\\nData Analysis of RLHF\\n\\n\\nCitation\\n\\nReferences\\n\\n\\n\\n\\n\\nReward hacking occurs when a reinforcement learning (RL) agent exploits flaws or ambiguities in the reward function to ac\""
            ],
            "application/vnd.google.colaboratory.intrinsic+json": {
              "type": "string"
            }
          },
          "metadata": {},
          "execution_count": 7
        }
      ]
    },
    {
      "cell_type": "markdown",
      "source": [
        "#### b. PDF's"
      ],
      "metadata": {
        "id": "-Cy93nWnEwj0"
      }
    },
    {
      "cell_type": "code",
      "source": [
        "# import the loader for PDFs\n",
        "from langchain_community.document_loaders import PyMuPDFLoader\n",
        "\n",
        "# create the loader with page mode and extracting tables and images\n",
        "loader = PyMuPDFLoader(\n",
        "    file_path = \"2024-Annual-Report-Web-Ready.pdf\",\n",
        "    # headers = None\n",
        "    # password = None,\n",
        "    mode = \"page\",\n",
        "    #pages_delimiter = \"\",\n",
        "    extract_images = True,\n",
        "    # images_parser = TesseractBlobParser(),\n",
        "    images_inner_format = \"markdown-img\",\n",
        "    extract_tables = \"csv\",\n",
        "    # extract_tables_settings = None,\n",
        ")\n",
        "\n",
        "# lazy load the document\n",
        "docs = []\n",
        "docs_lazy = loader.lazy_load()\n",
        "\n",
        "for doc in docs_lazy:\n",
        "    docs.append(doc)\n"
      ],
      "metadata": {
        "id": "LWED10SSC8tK"
      },
      "execution_count": 28,
      "outputs": []
    },
    {
      "cell_type": "code",
      "source": [
        "# example of part of the loaded document with its metadata\n",
        "print(docs[10].page_content[:100])\n",
        "print(docs[10].metadata)"
      ],
      "metadata": {
        "colab": {
          "base_uri": "https://localhost:8080/"
        },
        "id": "HhPl-V1tG_Zc",
        "outputId": "083de178-c058-4a07-82f5-f0a829605f2d"
      },
      "execution_count": 30,
      "outputs": [
        {
          "output_type": "stream",
          "name": "stdout",
          "text": [
            "Looking Forward\n",
            "EOG has never been better positioned to deliver \n",
            "long-term shareholder value. The de\n",
            "{'producer': 'Adobe PDF Library 17.0', 'creator': 'Adobe InDesign 20.0 (Windows)', 'creationdate': '2025-03-25T11:50:26-04:00', 'source': '2024-Annual-Report-Web-Ready.pdf', 'file_path': '2024-Annual-Report-Web-Ready.pdf', 'total_pages': 145, 'format': 'PDF 1.4', 'title': '', 'author': '', 'subject': '', 'keywords': '', 'moddate': '2025-03-25T16:45:33-04:00', 'trapped': '', 'modDate': \"D:20250325164533-04'00'\", 'creationDate': \"D:20250325115026-04'00'\", 'page': 10}\n"
          ]
        }
      ]
    },
    {
      "cell_type": "markdown",
      "source": [
        "### 2. Split the fetched documents into smaller chunks for indexing into our vectorstore:"
      ],
      "metadata": {
        "id": "_eLP91MBSeoB"
      }
    },
    {
      "cell_type": "code",
      "source": [
        "# import the splitter\n",
        "from langchain_text_splitters import RecursiveCharacterTextSplitter\n",
        "\n",
        "# list of documents in a form of list comprehensions for URLs\n",
        "# docs_list = [item for sublist in docs for item in sublist]\n",
        "docs_list = []\n",
        "for doc in docs:\n",
        "  # Check if the item is a tuple and extract the first element if it is\n",
        "  # PyMuPDFLoader returns a list of tuples (document,metadata)\n",
        "  if isinstance(doc, tuple):\n",
        "    docs_list.append(doc[0])\n",
        "  else:\n",
        "    docs_list.append(doc)\n",
        "\n",
        "# split the text\n",
        "text_splitter = RecursiveCharacterTextSplitter.from_tiktoken_encoder(\n",
        "    chunk_size=800, chunk_overlap=200\n",
        ")\n",
        "\n",
        "# different splits of the document\n",
        "doc_splits = text_splitter.split_documents(docs_list)"
      ],
      "metadata": {
        "id": "6larPi99SHw0"
      },
      "execution_count": 32,
      "outputs": []
    },
    {
      "cell_type": "code",
      "source": [
        "# example of content of the splitted document with metadata\n",
        "print(doc_splits[100].page_content.strip())\n",
        "print(doc_splits[100].metadata)"
      ],
      "metadata": {
        "colab": {
          "base_uri": "https://localhost:8080/"
        },
        "collapsed": true,
        "id": "e-YLrYnTULg7",
        "outputId": "719cc27d-8cc5-4db0-b3b6-a70716af395d"
      },
      "execution_count": 33,
      "outputs": [
        {
          "output_type": "stream",
          "name": "stdout",
          "text": [
            "•\n",
            "the impact of climate change-related legislation, policies and initiatives; climate change-related political, social and\n",
            "shareholder activism; and physical, transition and reputational risks and other potential developments related to climate\n",
            "change;\n",
            "•\n",
            "the extent to which EOG is able to successfully and economically develop, implement and carry out its emissions and\n",
            "other environmental or safety-related initiatives and achieve its related targets, goals, ambitions and initiatives;\n",
            "•\n",
            "EOG's ability to effectively integrate acquired crude oil and natural gas properties into its operations, identify and\n",
            "resolve existing and potential issues with respect to such properties and accurately estimate reserves, production,\n",
            "drilling, completion and operating costs and capital expenditures with respect to such properties;\n",
            "•\n",
            "the extent to which EOG's third-party-operated crude oil and natural gas properties are operated successfully,\n",
            "economically and in compliance with applicable laws and regulations;\n",
            "•\n",
            "competition in the oil and gas exploration and production industry for the acquisition of licenses, concessions, leases\n",
            "and properties;\n",
            "•\n",
            "the availability and cost of, and competition in the oil and gas exploration and production industry for, employees,\n",
            "labor and other personnel, facilities, equipment, materials (such as water, sand, fuel and tubulars) and services;\n",
            "•\n",
            "the accuracy of reserve estimates, which by their nature involve the exercise of professional judgment and may\n",
            "therefore be imprecise;\n",
            "•\n",
            "weather and natural disasters, including its impact on crude oil and natural gas demand, and related delays in drilling\n",
            "and in the installation and operation (by EOG or third parties) of production, gathering, processing, refining,\n",
            "liquefaction, compression, storage, transportation, and export facilities;\n",
            "•\n",
            "the ability of EOG's customers and other contractual counterparties to satisfy their obligations to EOG and, related\n",
            "thereto, to access the credit and capital markets to obtain financing needed to satisfy their obligations to EOG;\n",
            "•\n",
            "EOG's ability to access the commercial paper market and other credit and capital markets to obtain financing on terms\n",
            "it deems acceptable, if at all, and to otherwise satisfy its capital expenditure requirements;\n",
            "•\n",
            "the extent to which EOG is successful in its completion of planned asset dispositions;\n",
            "•\n",
            "the extent and effect of any hedging activities engaged in by EOG;\n",
            "•\n",
            "the timing and extent of changes in foreign currency exchange rates, interest rates, inflation rates, global and domestic\n",
            "financial market conditions and global and domestic general economic conditions;\n",
            "•\n",
            "the economic and financial impact of epidemics, pandemics or other public health issues;\n",
            "•\n",
            "geopolitical factors and political conditions and developments around the world (such as the imposition of tariffs or\n",
            "trade or other economic sanctions, political instability and armed conflicts), including in the areas in which EOG\n",
            "operates;\n",
            "•\n",
            "the extent to which EOG incurs uninsured losses and liabilities or losses and liabilities in excess of its insurance\n",
            "coverage; and\n",
            "•\n",
            "the other factors described under ITEM 1A, Risk Factors of this Annual Report on Form 10-K and any updates to\n",
            "those factors set forth in EOG's subsequent Quarterly Reports on Form 10-Q or Current Reports on Form 8-K.\n",
            "In light of these risks, uncertainties and assumptions, the events anticipated by EOG's forward-looking statements may\n",
            "not occur, and, if any of such events do, we may not have anticipated the timing of their occurrence or the duration or extent of\n",
            "their impact on our actual results. Accordingly, you should not place any undue reliance on any of EOG's forward-looking\n",
            "statements. EOG's forward-looking statements speak only as of the date made, and EOG undertakes no obligation, other than\n",
            "{'producer': 'Adobe PDF Library 17.0', 'creator': 'Adobe InDesign 20.0 (Windows)', 'creationdate': '2025-03-25T11:50:26-04:00', 'source': '2024-Annual-Report-Web-Ready.pdf', 'file_path': '2024-Annual-Report-Web-Ready.pdf', 'total_pages': 145, 'format': 'PDF 1.4', 'title': '', 'author': '', 'subject': '', 'keywords': '', 'moddate': '2025-03-25T16:45:33-04:00', 'trapped': '', 'modDate': \"D:20250325164533-04'00'\", 'creationDate': \"D:20250325115026-04'00'\", 'page': 64}\n"
          ]
        }
      ]
    },
    {
      "cell_type": "markdown",
      "source": [
        "## 2. Create a retriever tool\n",
        "\n",
        "Index our split documents into a vector store that we’ll use for semantic search."
      ],
      "metadata": {
        "id": "xNPdfYSIUehw"
      }
    },
    {
      "cell_type": "markdown",
      "source": [
        "### 1. Use an in-memory vector store and OpenAI embeddings:"
      ],
      "metadata": {
        "id": "HSxzRI-WUkHh"
      }
    },
    {
      "cell_type": "code",
      "source": [
        "# imports necesary for the VectoStore and Embeddings (OpenAI)\n",
        "from langchain_core.vectorstores import InMemoryVectorStore\n",
        "from langchain_openai import OpenAIEmbeddings\n",
        "\n",
        "# create the Vectorstore with the splits of the document\n",
        "vectorstore = InMemoryVectorStore.from_documents(\n",
        "    documents=doc_splits, embedding=OpenAIEmbeddings()\n",
        ")\n",
        "\n",
        "# create the retriever from that VectorStore\n",
        "retriever = vectorstore.as_retriever()"
      ],
      "metadata": {
        "id": "5AlJI-xBU2hc"
      },
      "execution_count": 34,
      "outputs": []
    },
    {
      "cell_type": "markdown",
      "source": [
        "### 2. Create a retriever tool using LangChain’s prebuilt create_retriever_tool:"
      ],
      "metadata": {
        "id": "KFfmYHC0U6UI"
      }
    },
    {
      "cell_type": "code",
      "source": [
        "# Imports for the retriever tool\n",
        "from langchain.tools.retriever import create_retriever_tool\n",
        "\n",
        "# Create the retriever tool with a retriever, name, description\n",
        "retriever_tool = create_retriever_tool(\n",
        "    retriever,\n",
        "    \"retrieve_RAG\",\n",
        "    \"Search and return information about EOG performance.\",\n",
        ")"
      ],
      "metadata": {
        "id": "Ss89w-egU9Cg"
      },
      "execution_count": 35,
      "outputs": []
    },
    {
      "cell_type": "markdown",
      "source": [
        "### 3. Test the tool:"
      ],
      "metadata": {
        "id": "z13CDZ8QVH1J"
      }
    },
    {
      "cell_type": "code",
      "source": [
        "# try a query\n",
        "retriever_tool.invoke({\"query\": \"what can you say about the culture\"})"
      ],
      "metadata": {
        "colab": {
          "base_uri": "https://localhost:8080/",
          "height": 137
        },
        "id": "ybZgappnVKT-",
        "outputId": "c70ddd2f-941e-46ca-f786-9eccbc21c3be"
      },
      "execution_count": 37,
      "outputs": [
        {
          "output_type": "execute_result",
          "data": {
            "text/plain": [
              "\"EOG’s community engagement is local. Each of our \\noperating areas is unique, and we proactively engage \\nwith community stakeholders, including property \\nowners, civic leaders, elected officials, first responders, \\nnonprofits, and local community groups, to identify and \\naddress specific community needs and concerns. From \\nour 2016 letter: “While we pull in one direction, we are \\na decentralized organization of employees that live and \\nwork in the communities where we operate.” \\nCulture\\nThere is not a single annual report shareholder letter \\nin our history that does not highlight our number one \\ncompetitive advantage – EOG’s unique culture. \\nOur decentralized, non-bureaucratic organization \\nplaces value creation in the field at the asset level, in \\nthe hands of each of our employees. From our 1999 \\nletter: “We’ll maintain the decentralized structure that \\nwe’ve successfully built over the years and embrace \\ntechnological change wherever it’s advantageous.” \\nFrom our 2007 letter: “What continues to work \\nfor EOG is a corporate culture that is decidedly \\ncollaborative in nature combined with a highly \\ndecentralized operating environment that has a \\nrelatively low level of bureaucracy.”\\nWe take pride in our collaborative, multidisciplinary \\nteams that drive innovation, utilizing technology and \\nreal-time data collection to drive decision-making.  \\nFrom our 2006 letter: “The development, \\nimplementation and refinement of technology have \\nbecome so integral to EOG’s mindset that we now \\nconsider it essential to our future.”\\nEOG’s unique culture underpins our entire value \\nproposition. And it is our employees, who embrace and \\nembody our culture, that are the number one driver of \\nEOG’s success these past 25 years. I want to thank our \\nemployees for consistently executing EOG’s strategy \\nyear after year. \\n2024\\nCULTURE \\nHIGHLIGHTS\\n25-Year \\nMarket Cap CAGR\\n13%\\nA LOOK BACK\\n6\\n\\t\\n– Reduced average well costs \\n6% across multi-basin portfolio \\nthrough innovation and \\nefficiencies\\n\\t\\n– Drilled record 4-mile lateral in \\nour South Texas Eagle Ford play\\n\\t\\n– Maintained sub 5% voluntary \\nturnover rate5\\n\\nR-8\\n\\nwork environment of different talents, perspectives and experiences.\\nEOG believes the backgrounds and experiences of our\\nemployees, as well as an inclusive work environment, promotes collaboration through multiple perspectives, which helps foster\\ncreativity and drive innovation. Further, as reflected in its Code of Business Conduct and Ethics for Directors, Officers and\\nEmployees, EOG is committed to providing equal opportunity in all aspects of employment and to hiring, evaluating and\\npromoting employees based on skills and performance.\\nCompensation, Benefits, Health & Wellness. EOG values attracting and retaining talent, and so it provides competitive\\nsalaries, bonuses and a subsidized, comprehensive benefits package. EOG also offers a holistic wellness program, a matching\\ngifts program, a flexible work schedule, paid family care leave, paid leave for illness or injury, paid volunteer time and an\\nemployee assistance program to support the mental well-being of employees and their dependents. In addition, new-hire stock\\ngrants, annual stock grants and an employee stock purchase plan give every employee the opportunity to be a participant in\\nEOG's success.\\nTraining and Development. EOG supports employees' professional development and provides training in leadership,\\nmanagement skills, communication, team effectiveness, technical skills and use of EOG systems and applications.\\nEOG's\\nleadership training, in particular, is focused on providing continuity of leadership at EOG by further enhancing the skills needed\\nto lead a multi-disciplined, diverse and decentralized workforce. In addition, EOG holds several internal technical conferences\\neach year designed to share best practices and technical advances across the company, including safety and environmental\\ntopics. EOG also offers its employees a tuition reimbursement program as well as reimbursement for the costs of professional\\ncertifications.\\n6\\n\\nR-7\""
            ],
            "application/vnd.google.colaboratory.intrinsic+json": {
              "type": "string"
            }
          },
          "metadata": {},
          "execution_count": 37
        }
      ]
    },
    {
      "cell_type": "markdown",
      "source": [
        "## 3. Generate query\n",
        "\n",
        "Now we will start building components (nodes and edges) for our agentic RAG graph.\n",
        "\n",
        "Note that the components will operate on the MessagesState — graph state that contains a messages key with a list of chat messages."
      ],
      "metadata": {
        "id": "VtbVnWKoVQKr"
      }
    },
    {
      "cell_type": "markdown",
      "source": [
        "### 1. Build a `generate_query_or_respond` node. It will call an LLM to generate a response based on the current graph state (list of messages). Given the input messages, it will decide to retrieve using the retriever tool, or respond directly to the user. Note that we’re giving the chat model access to the `retriever_tool` we created earlier via .bind_tools:"
      ],
      "metadata": {
        "id": "75UTxeSkVfJ0"
      }
    },
    {
      "cell_type": "code",
      "source": [
        "# imports to chat with the LLM and keep messages in the state\n",
        "from langgraph.graph import MessagesState\n",
        "from langchain.chat_models import init_chat_model\n",
        "\n",
        "# the model we're using and temp=0 to not halucitante\n",
        "response_model = init_chat_model(\"openai:gpt-4.1\", temperature=0)\n",
        "\n",
        "# function that decides if query the RAG or direct response from LLM\n",
        "def generate_query_or_respond(state: MessagesState):\n",
        "    \"\"\"Call the model to generate a response based on the current state. Given\n",
        "    the question, it will decide to retrieve using the retriever tool, or simply respond to the user.\n",
        "    \"\"\"\n",
        "    response = (\n",
        "        response_model\n",
        "        .bind_tools([retriever_tool]).invoke(state[\"messages\"])\n",
        "    )\n",
        "    return {\"messages\": [response]}"
      ],
      "metadata": {
        "id": "mowloQ8ZVR9z"
      },
      "execution_count": 38,
      "outputs": []
    },
    {
      "cell_type": "markdown",
      "source": [
        "### 2. Try it on a random input:"
      ],
      "metadata": {
        "id": "eXjj_eBpV06G"
      }
    },
    {
      "cell_type": "code",
      "source": [
        "# message not related to RAG (hello!)\n",
        "input = {\"messages\": [{\"role\": \"user\", \"content\": \"hello!\"}]}\n",
        "generate_query_or_respond(input)[\"messages\"][-1].pretty_print()"
      ],
      "metadata": {
        "colab": {
          "base_uri": "https://localhost:8080/"
        },
        "id": "0nFiP_R0V3Hj",
        "outputId": "537f9304-8c71-4236-cf00-2bd6e53b0379"
      },
      "execution_count": 39,
      "outputs": [
        {
          "output_type": "stream",
          "name": "stdout",
          "text": [
            "==================================\u001b[1m Ai Message \u001b[0m==================================\n",
            "\n",
            "Hello! How can I help you today?\n"
          ]
        }
      ]
    },
    {
      "cell_type": "markdown",
      "source": [
        "### 3. Ask a question that requires semantic search:"
      ],
      "metadata": {
        "id": "CBgPOEzDV_kQ"
      }
    },
    {
      "cell_type": "code",
      "source": [
        "# query that use the RAG\n",
        "input = {\n",
        "    \"messages\": [\n",
        "        {\n",
        "            \"role\": \"user\",\n",
        "            \"content\": \"What does Ezra Y. Yacob say about culture?\",\n",
        "        }\n",
        "    ]\n",
        "}\n",
        "generate_query_or_respond(input)[\"messages\"][-1].pretty_print()"
      ],
      "metadata": {
        "colab": {
          "base_uri": "https://localhost:8080/"
        },
        "id": "WKYPjVQ5WA8D",
        "outputId": "df98af5d-2ab5-4de0-cc43-0afa5fda9f38"
      },
      "execution_count": 40,
      "outputs": [
        {
          "output_type": "stream",
          "name": "stdout",
          "text": [
            "==================================\u001b[1m Ai Message \u001b[0m==================================\n",
            "Tool Calls:\n",
            "  retrieve_RAG (call_4Z4TxbMNiLUcomfnm5esLR3Q)\n",
            " Call ID: call_4Z4TxbMNiLUcomfnm5esLR3Q\n",
            "  Args:\n",
            "    query: Ezra Y. Yacob views on culture\n"
          ]
        }
      ]
    },
    {
      "cell_type": "markdown",
      "source": [
        "## 4. Grade documents"
      ],
      "metadata": {
        "id": "Z_YoV6wRWFyt"
      }
    },
    {
      "cell_type": "markdown",
      "source": [
        "### 1. Add a conditional edge — `grade_documents` — to determine whether the retrieved documents are relevant to the question. We will use a model with a structured output schema GradeDocuments for document grading. Thegrade_documents function will return the name of the node to go to based on the grading decision (`generate_answer` or `rewrite_question`):"
      ],
      "metadata": {
        "id": "CYnfSrbHWKQI"
      }
    },
    {
      "cell_type": "code",
      "source": [
        "# Pydantic for class definition for model\n",
        "from pydantic import BaseModel, Field\n",
        "from typing import Literal\n",
        "\n",
        "# to grade the prompt on a base of yes/no to relevance for the question\n",
        "GRADE_PROMPT = (\n",
        "    \"You are a grader assessing relevance of a retrieved document to a user question. \\n \"\n",
        "    \"Here is the retrieved document: \\n\\n {context} \\n\\n\"\n",
        "    \"Here is the user question: {question} \\n\"\n",
        "    \"If the document contains keyword(s) or semantic meaning related to the user question, grade it as relevant. \\n\"\n",
        "    \"Give a binary score 'yes' or 'no' score to indicate whether the document is relevant to the question.\"\n",
        ")\n",
        "\n",
        "# class used to create objects from the documents and give them a grade\n",
        "class GradeDocuments(BaseModel):\n",
        "    \"\"\"Grade documents using a binary score for relevance check.\"\"\"\n",
        "\n",
        "    binary_score: str = Field(\n",
        "        description=\"Relevance score: 'yes' if relevant, or 'no' if not relevant\"\n",
        "    )\n",
        "\n",
        "# this model can be different to the one used previusly, maybe a reasoning llm\n",
        "grader_model = init_chat_model(\"openai:gpt-4.1\", temperature=0)\n",
        "\n",
        "# function to grade each document receives the state and decides if answer or\n",
        "# rewrite the question\n",
        "def grade_documents(\n",
        "    state: MessagesState,\n",
        ") -> Literal[\"generate_answer\", \"rewrite_question\"]:\n",
        "    \"\"\"Determine whether the retrieved documents are relevant to the question.\"\"\"\n",
        "    question = state[\"messages\"][0].content\n",
        "    context = state[\"messages\"][-1].content\n",
        "\n",
        "    prompt = GRADE_PROMPT.format(question=question, context=context)\n",
        "    response = (\n",
        "        grader_model\n",
        "        .with_structured_output(GradeDocuments).invoke(\n",
        "            [{\"role\": \"user\", \"content\": prompt}]\n",
        "        )\n",
        "    )\n",
        "    score = response.binary_score\n",
        "\n",
        "    if score == \"yes\":\n",
        "        return \"generate_answer\"\n",
        "    else:\n",
        "        return \"rewrite_question\""
      ],
      "metadata": {
        "id": "yyQ0cq3FWH3V"
      },
      "execution_count": 41,
      "outputs": []
    },
    {
      "cell_type": "markdown",
      "source": [
        "2. Run this with irrelevant documents in the tool response:"
      ],
      "metadata": {
        "id": "hAOD2AvaWVJh"
      }
    },
    {
      "cell_type": "code",
      "source": [
        "# import to convert messages\n",
        "from langchain_core.messages import convert_to_messages\n",
        "\n",
        "#input format to check how the system grades\n",
        "input = {\n",
        "    \"messages\": convert_to_messages(\n",
        "        [\n",
        "            {\n",
        "                \"role\": \"user\",\n",
        "                \"content\": \"What does Ezra Y. Yacob say about culture?\",\n",
        "            },\n",
        "            {\n",
        "                \"role\": \"assistant\",\n",
        "                \"content\": \"\",\n",
        "                \"tool_calls\": [\n",
        "                    {\n",
        "                        \"id\": \"1\",\n",
        "                        \"name\": \"retrieve_RAG\",\n",
        "                        \"args\": {\"query\": \"Ezra Y. Yacob views on culture\"},\n",
        "                    }\n",
        "                ],\n",
        "            },\n",
        "            # irrelevant content for test\n",
        "            {\"role\": \"tool\", \"content\": \"meow\", \"tool_call_id\": \"1\"},\n",
        "        ]\n",
        "    )\n",
        "}\n",
        "grade_documents(input)"
      ],
      "metadata": {
        "colab": {
          "base_uri": "https://localhost:8080/",
          "height": 35
        },
        "id": "v9N1RABwWW8n",
        "outputId": "a6a1be41-d301-47dc-a205-145bdb158499"
      },
      "execution_count": 42,
      "outputs": [
        {
          "output_type": "execute_result",
          "data": {
            "text/plain": [
              "'rewrite_question'"
            ],
            "application/vnd.google.colaboratory.intrinsic+json": {
              "type": "string"
            }
          },
          "metadata": {},
          "execution_count": 42
        }
      ]
    },
    {
      "cell_type": "markdown",
      "source": [
        "### 3. Confirm that the relevant documents are classified as such:"
      ],
      "metadata": {
        "id": "qRc3mMhDWc3I"
      }
    },
    {
      "cell_type": "code",
      "source": [
        "#input format to check how the system grades\n",
        "input = {\n",
        "    \"messages\": convert_to_messages(\n",
        "        [\n",
        "            {\n",
        "                \"role\": \"user\",\n",
        "                \"content\": \"What does Ezra Y. Yacob say about culture?\",\n",
        "            },\n",
        "            {\n",
        "                \"role\": \"assistant\",\n",
        "                \"content\": \"\",\n",
        "                \"tool_calls\": [\n",
        "                    {\n",
        "                        \"id\": \"1\",\n",
        "                        \"name\": \"retrieve_RAG\",\n",
        "                        \"args\": {\"query\": \"Ezra Y. Yacob views on culture\"},\n",
        "                    }\n",
        "                ],\n",
        "            },\n",
        "            # relevant content\n",
        "            {\n",
        "                \"role\": \"tool\",\n",
        "                \"content\": \"\"\"EOG’s unique culture underpins our entire value\n",
        "proposition. And it is our employees, who embrace and embody our culture, that are the number one driver of\n",
        "EOG’s success these past 25 years. I want to thank our employees for consistently executing EOG’s strategy\n",
        "year after year.\"\"\",\n",
        "                \"tool_call_id\": \"1\",\n",
        "            },\n",
        "        ]\n",
        "    )\n",
        "}\n",
        "grade_documents(input)"
      ],
      "metadata": {
        "colab": {
          "base_uri": "https://localhost:8080/",
          "height": 35
        },
        "id": "8A0UoKt1We5z",
        "outputId": "4683ad7a-2df1-4cdf-b173-45fd1667fdd1"
      },
      "execution_count": 43,
      "outputs": [
        {
          "output_type": "execute_result",
          "data": {
            "text/plain": [
              "'generate_answer'"
            ],
            "application/vnd.google.colaboratory.intrinsic+json": {
              "type": "string"
            }
          },
          "metadata": {},
          "execution_count": 43
        }
      ]
    },
    {
      "cell_type": "markdown",
      "source": [
        "## 5. Rewrite question"
      ],
      "metadata": {
        "id": "wLxKJ4TtWlmH"
      }
    },
    {
      "cell_type": "markdown",
      "source": [
        "### 1. Build the rewrite_question node. The retriever tool can return potentially irrelevant documents, which indicates a need to improve the original user question. To do so, we will call the rewrite_question node:"
      ],
      "metadata": {
        "id": "3SSp45qZWpTY"
      }
    },
    {
      "cell_type": "code",
      "source": [
        "# Prompt to rewrite the question if we receive irrelevant documents\n",
        "REWRITE_PROMPT = (\n",
        "    \"Look at the input and try to reason about the underlying semantic intent / meaning.\\n\"\n",
        "    \"Here is the initial question:\"\n",
        "    \"\\n ------- \\n\"\n",
        "    \"{question}\"\n",
        "    \"\\n ------- \\n\"\n",
        "    \"Formulate an improved question:\"\n",
        ")\n",
        "\n",
        "# function that rewrites the original question to get better responses\n",
        "def rewrite_question(state: MessagesState):\n",
        "    \"\"\"Rewrite the original user question.\"\"\"\n",
        "    messages = state[\"messages\"]\n",
        "    question = messages[0].content\n",
        "    prompt = REWRITE_PROMPT.format(question=question)\n",
        "    response = response_model.invoke([{\"role\": \"user\", \"content\": prompt}])\n",
        "    return {\"messages\": [{\"role\": \"user\", \"content\": response.content}]}"
      ],
      "metadata": {
        "id": "vWsqTC6iWnso"
      },
      "execution_count": 44,
      "outputs": []
    },
    {
      "cell_type": "markdown",
      "source": [
        "### 2. Try it out:"
      ],
      "metadata": {
        "id": "GzCG1TfXWund"
      }
    },
    {
      "cell_type": "code",
      "source": [
        "#input format to check how the system grades\n",
        "input = {\n",
        "    \"messages\": convert_to_messages(\n",
        "        [\n",
        "            {\n",
        "                \"role\": \"user\",\n",
        "                \"content\": \"What does Lilian Weng say about types of reward hacking?\",\n",
        "            },\n",
        "            {\n",
        "                \"role\": \"assistant\",\n",
        "                \"content\": \"\",\n",
        "                \"tool_calls\": [\n",
        "                    {\n",
        "                        \"id\": \"1\",\n",
        "                        \"name\": \"retrieve_RAG\",\n",
        "                        \"args\": {\"query\": \"Ezra Y. Yacob views on culture\"},\n",
        "                    }\n",
        "                ],\n",
        "            },\n",
        "            # irrelevant content for test\n",
        "            {\"role\": \"tool\", \"content\": \"meow\", \"tool_call_id\": \"1\"},\n",
        "        ]\n",
        "    )\n",
        "}\n",
        "\n",
        "response = rewrite_question(input)\n",
        "print(response[\"messages\"][-1][\"content\"])"
      ],
      "metadata": {
        "colab": {
          "base_uri": "https://localhost:8080/"
        },
        "id": "NlqV4fRsWw5F",
        "outputId": "2e17baaa-2dfb-4adb-a33a-21789d9b34ad"
      },
      "execution_count": 45,
      "outputs": [
        {
          "output_type": "stream",
          "name": "stdout",
          "text": [
            "Certainly! Here’s an improved version of the question:\n",
            "\n",
            "**\"What are Ezra Y. Yacob's views or arguments regarding the concept of culture?\"**\n"
          ]
        }
      ]
    },
    {
      "cell_type": "markdown",
      "source": [
        "## 6. Generate an answer"
      ],
      "metadata": {
        "id": "g_XFAIN0W4Bb"
      }
    },
    {
      "cell_type": "markdown",
      "source": [
        "### 1. Build generate_answer node: if we pass the grader checks, we can generate the final answer based on the original question and the retrieved context:"
      ],
      "metadata": {
        "id": "2gOeGJgcW8Yy"
      }
    },
    {
      "cell_type": "code",
      "source": [
        "# prompt if the question was ok from the user\n",
        "GENERATE_PROMPT = (\n",
        "    \"You are an assistant for question-answering tasks. \"\n",
        "    \"Use the following pieces of retrieved context to answer the question. \"\n",
        "    \"If you don't know the answer, just say that you don't know. \"\n",
        "    \"Use three sentences maximum and keep the answer concise.\\n\"\n",
        "    \"Question: {question} \\n\"\n",
        "    \"Context: {context}\"\n",
        ")\n",
        "\n",
        "# function to generate answer if the question was ok from the user\n",
        "def generate_answer(state: MessagesState):\n",
        "    \"\"\"Generate an answer.\"\"\"\n",
        "    question = state[\"messages\"][0].content\n",
        "    context = state[\"messages\"][-1].content\n",
        "    prompt = GENERATE_PROMPT.format(question=question, context=context)\n",
        "    response = response_model.invoke([{\"role\": \"user\", \"content\": prompt}])\n",
        "    return {\"messages\": [response]}"
      ],
      "metadata": {
        "id": "eOVjArYAW93_"
      },
      "execution_count": 22,
      "outputs": []
    },
    {
      "cell_type": "markdown",
      "source": [
        "### 2. Try it:"
      ],
      "metadata": {
        "id": "BxxbzyOSXBdd"
      }
    },
    {
      "cell_type": "code",
      "source": [
        "input = {\n",
        "    \"messages\": convert_to_messages(\n",
        "        [\n",
        "            {\n",
        "                \"role\": \"user\",\n",
        "                \"content\": \"What does Ezra Y. Yacob say about culture?\",\n",
        "            },\n",
        "            {\n",
        "                \"role\": \"assistant\",\n",
        "                \"content\": \"\",\n",
        "                \"tool_calls\": [\n",
        "                    {\n",
        "                        \"id\": \"1\",\n",
        "                        \"name\": \"retrieve_RAG\",\n",
        "                        \"args\": {\"query\": \"Ezra Y. Yacob views on culture\"},\n",
        "                    }\n",
        "                ],\n",
        "            },\n",
        "            {\n",
        "                \"role\": \"tool\",\n",
        "                \"content\": \"\"\"EOG’s unique culture underpins our entire value\n",
        "proposition. And it is our employees, who embrace and embody our culture, that are the number one driver of\n",
        "EOG’s success these past 25 years. I want to thank our employees for consistently executing EOG’s strategy\n",
        "year after year.\"\"\",\n",
        "                \"tool_call_id\": \"1\",\n",
        "            },\n",
        "        ]\n",
        "    )\n",
        "}\n",
        "\n",
        "response = generate_answer(input)\n",
        "response[\"messages\"][-1].pretty_print()"
      ],
      "metadata": {
        "colab": {
          "base_uri": "https://localhost:8080/"
        },
        "id": "jsZpoc-7XD7t",
        "outputId": "7af1992e-cba1-42a7-d83d-08e8144f3eee"
      },
      "execution_count": 46,
      "outputs": [
        {
          "output_type": "stream",
          "name": "stdout",
          "text": [
            "==================================\u001b[1m Ai Message \u001b[0m==================================\n",
            "\n",
            "Ezra Y. Yacob says that EOG’s unique culture underpins the company’s entire value proposition. He emphasizes that employees who embrace and embody this culture are the number one driver of EOG’s success over the past 25 years. He thanks employees for consistently executing EOG’s strategy year after year.\n"
          ]
        }
      ]
    },
    {
      "cell_type": "markdown",
      "source": [
        "## 7. Assemble the graph"
      ],
      "metadata": {
        "id": "K_OT9DE6XNH6"
      }
    },
    {
      "cell_type": "code",
      "source": [
        "# imports to assemble the graph\n",
        "from langgraph.graph import StateGraph, START, END\n",
        "from langgraph.prebuilt import ToolNode\n",
        "from langgraph.prebuilt import tools_condition\n",
        "\n",
        "# initiate the workflow\n",
        "workflow = StateGraph(MessagesState)\n",
        "\n",
        "# Define the nodes we will cycle between\n",
        "workflow.add_node(generate_query_or_respond)\n",
        "workflow.add_node(\"retrieve\", ToolNode([retriever_tool]))\n",
        "workflow.add_node(rewrite_question)\n",
        "workflow.add_node(generate_answer)\n",
        "\n",
        "workflow.add_edge(START, \"generate_query_or_respond\")\n",
        "\n",
        "# Decide whether to retrieve\n",
        "workflow.add_conditional_edges(\n",
        "    \"generate_query_or_respond\",\n",
        "    # Assess LLM decision (call `retriever_tool` tool or respond to the user)\n",
        "    tools_condition,\n",
        "    {\n",
        "        # Translate the condition outputs to nodes in our graph\n",
        "        \"tools\": \"retrieve\",\n",
        "        END: END,\n",
        "    },\n",
        ")\n",
        "\n",
        "# Edges taken after the `action` node is called.\n",
        "workflow.add_conditional_edges(\n",
        "    \"retrieve\",\n",
        "    # Assess agent decision\n",
        "    grade_documents,\n",
        ")\n",
        "workflow.add_edge(\"generate_answer\", END)\n",
        "workflow.add_edge(\"rewrite_question\", \"generate_query_or_respond\")\n",
        "\n",
        "# Compile\n",
        "graph = workflow.compile()"
      ],
      "metadata": {
        "id": "54DTbteRXUmQ"
      },
      "execution_count": 47,
      "outputs": []
    },
    {
      "cell_type": "markdown",
      "source": [
        "### 2. Visualize the graph"
      ],
      "metadata": {
        "id": "kOmXvCc7XaUL"
      }
    },
    {
      "cell_type": "code",
      "source": [
        "# import to display the graph\n",
        "from IPython.display import Image, display\n",
        "\n",
        "#display the graph as an image\n",
        "display(Image(graph.get_graph().draw_mermaid_png()))"
      ],
      "metadata": {
        "colab": {
          "base_uri": "https://localhost:8080/",
          "height": 473
        },
        "id": "AFsBCyJFXcds",
        "outputId": "af20e4bb-6a87-4c1d-e839-2ff1e3092bb9"
      },
      "execution_count": 48,
      "outputs": [
        {
          "output_type": "display_data",
          "data": {
            "image/png": "[encoded data removed]",
            "text/plain": [
              "<IPython.core.display.Image object>"
            ]
          },
          "metadata": {}
        }
      ]
    },
    {
      "cell_type": "markdown",
      "source": [
        "## 8. Run the agentic RAG"
      ],
      "metadata": {
        "id": "EeN2VutlXhXn"
      }
    },
    {
      "cell_type": "code",
      "source": [
        "# run the Agentic graph RAG\n",
        "for chunk in graph.stream(\n",
        "    {\n",
        "        \"messages\": [\n",
        "            {\n",
        "                \"role\": \"user\",\n",
        "                #\"content\": \"What does Ezra Y. Yacob say about culture?\",\n",
        "                \"content\": \"What are the risks related to cash flow for EOG?\",\n",
        "            }\n",
        "        ]\n",
        "    }\n",
        "):\n",
        "    for node, update in chunk.items():\n",
        "        print(\"Update from node\", node)\n",
        "        update[\"messages\"][-1].pretty_print()\n",
        "        print(\"\\n\\n\")"
      ],
      "metadata": {
        "colab": {
          "base_uri": "https://localhost:8080/"
        },
        "id": "VmhFhdreXlO2",
        "outputId": "00cd8e36-42ad-4d98-e996-d5b0ec8e83cd"
      },
      "execution_count": 51,
      "outputs": [
        {
          "output_type": "stream",
          "name": "stdout",
          "text": [
            "Update from node generate_query_or_respond\n",
            "==================================\u001b[1m Ai Message \u001b[0m==================================\n",
            "Tool Calls:\n",
            "  retrieve_RAG (call_qS8woFBtf944P1Hk8QnvSXEi)\n",
            " Call ID: call_qS8woFBtf944P1Hk8QnvSXEi\n",
            "  Args:\n",
            "    query: cash flow risks for EOG\n",
            "\n",
            "\n",
            "\n",
            "Update from node retrieve\n",
            "=================================\u001b[1m Tool Message \u001b[0m=================================\n",
            "Name: retrieve_RAG\n",
            "\n",
            "ITEM 1A. Risk Factors\n",
            "Our business and operations are subject to many risks. The risks described below may not be the only risks we face, as\n",
            "our business and operations may also be subject to risks that we do not yet know of, or that we currently believe are immaterial.\n",
            "If any of the events or circumstances described below actually occurs, our business, financial condition, results of operations or\n",
            "cash flows could be materially and adversely affected and the trading price of our common stock could decline. The following\n",
            "risk factors should be read in conjunction with the other information contained herein, including the consolidated financial\n",
            "statements and the related notes. Unless the context requires otherwise, \"we,\" \"us,\" \"our\" and \"EOG\" refer to EOG Resources,\n",
            "Inc. and its subsidiaries.\n",
            "Risks Related to our Financial Condition, Results of Operations and Cash Flows\n",
            "Crude oil, NGLs and natural gas prices are volatile, and a substantial and extended decline in commodity prices can have a\n",
            "material and adverse effect on us.\n",
            "Prices for crude oil and natural gas (including prices for natural gas liquids (NGLs) and condensate) fluctuate widely.\n",
            "Among the interrelated factors that can or could cause these price fluctuations are:\n",
            "•\n",
            "domestic and worldwide supplies of, and consumer and industrial/commercial demand for, crude oil, NGLs and\n",
            "natural gas;\n",
            "•\n",
            "domestic and international drilling activity;\n",
            "•\n",
            "the actions of other crude oil producing and exporting nations, including the Organization of Petroleum Exporting\n",
            "Countries;\n",
            "•\n",
            "worldwide economic conditions, geopolitical factors and political conditions, including, but not limited to, the\n",
            "imposition of tariffs or trade or other economic sanctions and political instability or armed conflict in oil and gas\n",
            "producing regions;\n",
            "•\n",
            "the availability, proximity and capacity of appropriate transportation, gathering, processing, compression, storage,\n",
            "refining, liquefaction and export facilities;\n",
            "•\n",
            "the price and availability of, and demand for, competing energy sources, including alternative energy sources;\n",
            "•\n",
            "the effect of worldwide energy conservation measures, alternative fuel requirements and climate change-related\n",
            "legislation, policies, initiatives and developments;\n",
            "•\n",
            "technological advances and consumer and industrial/commercial behavior, preferences and attitudes, in each case\n",
            "affecting energy generation, transmission, storage and consumption;\n",
            "•\n",
            "the nature and extent of governmental regulation, including environmental and other climate change-related regulation,\n",
            "regulation of financial and other derivative transactions and hedging activities, tax laws and regulations and laws and\n",
            "regulations with respect to the import and export of crude oil, NGLs, and natural gas and related commodities;\n",
            "•\n",
            "the level and effect of trading in commodity futures markets, including trading by commodity price speculators and\n",
            "others;\n",
            "•\n",
            "natural disasters, weather conditions and changes in weather patterns, each of which may be exacerbated by climate\n",
            "change; and\n",
            "•\n",
            "the economic and financial impact of epidemics, pandemics or other public health issues, such as the COVID-19\n",
            "pandemic.\n",
            "The above-described factors and the volatility of commodity prices make it difficult to predict crude oil, NGLs and\n",
            "natural gas prices in 2025 and thereafter. As a result, there can be no assurance that the prices for crude oil, NGLs and/or\n",
            "natural gas will sustain, or increase from, their current levels, nor can there be any assurance that the prices for crude oil, NGLs\n",
            "and/or natural gas will not decline.\n",
            "Our cash flows, financial condition and results of operations depend to a great extent on prevailing commodity prices.\n",
            "Accordingly, substantial and extended declines in commodity prices can materially and adversely affect the amount of cash\n",
            "\n",
            "Due to the many uncertainties associated with the world political and economic environment (for example, the actions\n",
            "of other crude oil exporting nations, including the Organization of Petroleum Exporting Countries, or the global impacts of wars\n",
            "or military conflicts involving such nations or regions), the global supply of, and demand for, crude oil, NGLs and natural gas\n",
            "and the availability of other energy supplies, the relative competitive relationships of the various energy sources in the view of\n",
            "consumers and other factors, EOG is unable to predict what changes may occur in the prices of crude oil and condensate, NGLs\n",
            "and natural gas in the future. For additional discussion regarding changes in crude oil and condensate, NGLs and natural gas\n",
            "prices, the potential impacts on EOG and the risks that such changes may present to EOG, see ITEM 1A, Risk Factors.\n",
            "Based on EOG's tax position, EOG's price sensitivity in 2025 for each $1.00 per barrel increase or decrease in crude oil\n",
            "and condensate price, combined with the estimated change in NGLs price, is approximately $159 million for net income and\n",
            "$204 million for pretax cash flows from operating activities. Including the impact of EOG's natural gas financial derivative\n",
            "contracts and based on EOG's tax position and the portion of EOG's anticipated natural gas volumes for 2025 for which prices\n",
            "have not been determined under long-term marketing contracts, EOG's price sensitivity for each $0.10 per Mcf increase or\n",
            "decrease in natural gas price is approximately $33 million for net income and $42 million for pretax cash flows from operating\n",
            "activities. For a summary of EOG's financial commodity and other derivative contracts through February 21, 2025, see ITEM\n",
            "7, Management's Discussion and Analysis of Financial Condition and Results of Operations - Capital Resources and Liquidity -\n",
            "Financial Commodity and Other Derivative Transactions. For a summary of EOG's financial commodity and other derivative\n",
            "contracts for the year ended December 31, 2024, see Note 12 to Consolidated Financial Statements.\n",
            "Risk Management. EOG engages in price risk management activities from time to time. These activities are intended\n",
            "to manage EOG's exposure to fluctuations in prices of crude oil, NGLs and natural gas. EOG utilizes financial commodity\n",
            "derivative instruments, primarily price swap, option, swaption, collar and basis swap contracts, as a means to manage this price\n",
            "risk. See Note 12 to Consolidated Financial Statements. For a summary of EOG's financial commodity and other derivative\n",
            "contracts through February 21, 2025, see ITEM 7, Management's Discussion and Analysis of Financial Condition and Results\n",
            "of Operations - Capital Resources and Liquidity - Financial Commodity and Other Derivative Transactions.\n",
            "All of EOG's crude oil, NGLs and natural gas activities are subject to the risks normally incident to the exploration for,\n",
            "and development, production and transportation of, crude oil, NGLs and natural gas, including rig and well explosions,\n",
            "cratering, fires, loss of well control and leaks and spills, each of which could result in damage to life, property and/or the\n",
            "environment. EOG's operations are also subject to certain perils, including hurricanes, tropical storms, flooding, winter storms\n",
            "and other adverse weather events. Moreover, EOG's activities are subject to governmental regulations as well as interruption or\n",
            "termination by governmental authorities based on environmental and other considerations. Losses and liabilities arising from\n",
            "such events could reduce EOG's revenues and increase costs to EOG to the extent not covered by insurance.\n",
            "Insurance is maintained by EOG against many, but not all, of these risks in accordance with what EOG believes are\n",
            "\n",
            "Capital Resources and Liquidity\n",
            "Cash Flow\n",
            "The primary sources of cash for EOG during the three-year period ended December 31, 2024, were funds generated\n",
            "from operations and, to a lesser extent, net proceeds from the issuance of long-term debt and proceeds from asset sales. The\n",
            "primary uses of cash were funds used in operations; exploration and development expenditures; dividend payments to\n",
            "stockholders; purchases of treasury stock; net cash paid for settlements of financial commodity derivative contracts; other\n",
            "property, plant and equipment expenditures; and repayment of debt.\n",
            "Net cash provided by operating activities of $12,143 million in 2024 increased $803 million from $11,340 million in\n",
            "2023 primarily due to a decrease in net cash paid for income taxes ($450 million), an increase in net cash received from\n",
            "settlements of financial commodity derivative contracts ($326 million), an increase in revenues from sales of crude oil and\n",
            "condensate, NGLs and natural gas ($202 million) and a decrease in net cash used in working capital and other assets and\n",
            "liabilities ($197 million), partially offset by the return in 2023 of cash collateral posted for financial commodity derivative\n",
            "contracts ($324 million) and an increase in cash operating expenses ($185 million).\n",
            "Net cash used in investing activities of $5,967 million in 2024 decreased by $373 million from $6,340 million in 2023\n",
            "primarily due to a decrease in net cash used in working capital associated with investing activities ($677 million) and a decrease\n",
            "in additions to oil and gas properties ($32 million); partially offset by an increase in additions to other property, plant and\n",
            "equipment ($219 million) and a decrease in proceeds from the sales of assets ($117 million).\n",
            "Net cash used in financing activities of $4,361 million in 2024 included purchases of treasury stock ($3,246 million),\n",
            "cash dividend payments ($2,087 million) and repayment of finance lease liabilities ($33 million). Cash provided by financing\n",
            "activities in 2024 included long-term debt borrowings ($985 million) and proceeds from stock options exercised and employee\n",
            "stock purchase plan activity ($22 million).\n",
            "43\n",
            "\n",
            "generation of cash flow and earnings from each unit of production on a cost-efficient basis, allowing EOG to maximize long-\n",
            "term growth in shareholder value and maintain a strong balance sheet. EOG is also focused on innovation and cost-effective\n",
            "utilization of advanced technology associated with three-dimensional seismic and microseismic data, the development of\n",
            "reservoir simulation models and the use of improved drilling equipment and completion technologies for horizontal drilling and\n",
            "formation evaluation. These advanced technologies are used, as appropriate, throughout EOG to reduce the risks and costs\n",
            "associated with all aspects of oil and gas exploration, development and exploitation. EOG implements its strategy primarily by\n",
            "emphasizing the drilling of internally generated prospects in order to find and develop low-cost reserves.\n",
            "Maintaining the\n",
            "lowest possible operating cost structure, coupled with efficient and safe operations and robust environmental stewardship\n",
            "practices and performance, is integral in the implementation of EOG's strategy.\n",
            "With respect to information on EOG's working interest in wells or acreage, \"net\" oil and gas wells or acreage are\n",
            "determined by multiplying \"gross\" oil and gas wells or acreage by EOG's working interest in the wells or acreage.\n",
            "Exploration and Production\n",
            "United States Operations\n",
            "EOG's operations are located in most of the productive basins in the United States with a focus on crude oil and natural\n",
            "gas plays.\n",
            "At December 31, 2024, on a crude oil equivalent basis, 40% of EOG's net proved reserves in the United States were\n",
            "crude oil and condensate, 29% were NGLs and 31% were natural gas. The majority of these reserves are in long-lived fields\n",
            "with well-established production characteristics. EOG believes opportunities exist to increase production through continued\n",
            "development in and around many of these fields and through the utilization of applicable technologies. EOG also maintains an\n",
            "active exploration program designed to extend fields and add new trends and resource plays to its already broad portfolio.\n",
            "1\n",
            "\n",
            "\n",
            "\n",
            "Update from node generate_answer\n",
            "==================================\u001b[1m Ai Message \u001b[0m==================================\n",
            "\n",
            "The primary cash flow risks for EOG are the volatility and potential substantial, extended declines in crude oil, NGL, and natural gas prices, which can materially and adversely affect cash flows. Other risks include operational hazards (such as well explosions, weather events, and regulatory interruptions) and the effectiveness of EOG’s price risk management strategies using derivatives. Additionally, changes in global economic and political conditions, as well as competition from alternative energy sources, can impact commodity prices and thus EOG’s cash flow.\n",
            "\n",
            "\n",
            "\n"
          ]
        }
      ]
    }
  ]
}